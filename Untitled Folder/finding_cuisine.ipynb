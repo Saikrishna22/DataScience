{
 "cells": [
  {
   "cell_type": "code",
   "execution_count": 8,
   "metadata": {
    "collapsed": true
   },
   "outputs": [],
   "source": [
    "#TASK : Build a model that will learn the cuisine type based on training dataset"
   ]
  },
  {
   "cell_type": "code",
   "execution_count": 9,
   "metadata": {
    "collapsed": true
   },
   "outputs": [],
   "source": [
    "#This is a multiclass classification problem"
   ]
  },
  {
   "cell_type": "code",
   "execution_count": 10,
   "metadata": {
    "collapsed": true
   },
   "outputs": [],
   "source": [
    "#importing important libraries\n",
    "import pandas as pd\n",
    "import numpy as np\n",
    "import matplotlib.pyplot as plt\n",
    "import seaborn as sns\n",
    "%matplotlib inline"
   ]
  },
  {
   "cell_type": "code",
   "execution_count": 11,
   "metadata": {
    "collapsed": true
   },
   "outputs": [],
   "source": [
    "import json"
   ]
  },
  {
   "cell_type": "code",
   "execution_count": 12,
   "metadata": {
    "collapsed": true
   },
   "outputs": [],
   "source": [
    "#loading train and test data\n",
    "train_data = pd.read_json('train.json') \n",
    "test_data = pd.read_json('test.json')"
   ]
  },
  {
   "cell_type": "code",
   "execution_count": 13,
   "metadata": {},
   "outputs": [
    {
     "name": "stdout",
     "output_type": "stream",
     "text": [
      "<class 'pandas.core.frame.DataFrame'>\n",
      "RangeIndex: 39774 entries, 0 to 39773\n",
      "Data columns (total 3 columns):\n",
      "cuisine        39774 non-null object\n",
      "id             39774 non-null int64\n",
      "ingredients    39774 non-null object\n",
      "dtypes: int64(1), object(2)\n",
      "memory usage: 932.3+ KB\n"
     ]
    }
   ],
   "source": [
    "train_data.info()"
   ]
  },
  {
   "cell_type": "code",
   "execution_count": 14,
   "metadata": {},
   "outputs": [
    {
     "name": "stdout",
     "output_type": "stream",
     "text": [
      "<class 'pandas.core.frame.DataFrame'>\n",
      "RangeIndex: 9944 entries, 0 to 9943\n",
      "Data columns (total 2 columns):\n",
      "id             9944 non-null int64\n",
      "ingredients    9944 non-null object\n",
      "dtypes: int64(1), object(1)\n",
      "memory usage: 155.5+ KB\n"
     ]
    }
   ],
   "source": [
    "test_data.info()"
   ]
  },
  {
   "cell_type": "code",
   "execution_count": 15,
   "metadata": {
    "collapsed": true
   },
   "outputs": [],
   "source": [
    "#train data has 3 columns and total of 39774 recipies\n",
    "#test data has 2 columns and 9944 recipies"
   ]
  },
  {
   "cell_type": "code",
   "execution_count": 16,
   "metadata": {},
   "outputs": [
    {
     "data": {
      "text/html": [
       "<div>\n",
       "<style scoped>\n",
       "    .dataframe tbody tr th:only-of-type {\n",
       "        vertical-align: middle;\n",
       "    }\n",
       "\n",
       "    .dataframe tbody tr th {\n",
       "        vertical-align: top;\n",
       "    }\n",
       "\n",
       "    .dataframe thead th {\n",
       "        text-align: right;\n",
       "    }\n",
       "</style>\n",
       "<table border=\"1\" class=\"dataframe\">\n",
       "  <thead>\n",
       "    <tr style=\"text-align: right;\">\n",
       "      <th></th>\n",
       "      <th>cuisine</th>\n",
       "      <th>id</th>\n",
       "      <th>ingredients</th>\n",
       "    </tr>\n",
       "  </thead>\n",
       "  <tbody>\n",
       "    <tr>\n",
       "      <th>0</th>\n",
       "      <td>greek</td>\n",
       "      <td>10259</td>\n",
       "      <td>[romaine lettuce, black olives, grape tomatoes...</td>\n",
       "    </tr>\n",
       "    <tr>\n",
       "      <th>1</th>\n",
       "      <td>southern_us</td>\n",
       "      <td>25693</td>\n",
       "      <td>[plain flour, ground pepper, salt, tomatoes, g...</td>\n",
       "    </tr>\n",
       "    <tr>\n",
       "      <th>2</th>\n",
       "      <td>filipino</td>\n",
       "      <td>20130</td>\n",
       "      <td>[eggs, pepper, salt, mayonaise, cooking oil, g...</td>\n",
       "    </tr>\n",
       "    <tr>\n",
       "      <th>3</th>\n",
       "      <td>indian</td>\n",
       "      <td>22213</td>\n",
       "      <td>[water, vegetable oil, wheat, salt]</td>\n",
       "    </tr>\n",
       "    <tr>\n",
       "      <th>4</th>\n",
       "      <td>indian</td>\n",
       "      <td>13162</td>\n",
       "      <td>[black pepper, shallots, cornflour, cayenne pe...</td>\n",
       "    </tr>\n",
       "  </tbody>\n",
       "</table>\n",
       "</div>"
      ],
      "text/plain": [
       "       cuisine     id                                        ingredients\n",
       "0        greek  10259  [romaine lettuce, black olives, grape tomatoes...\n",
       "1  southern_us  25693  [plain flour, ground pepper, salt, tomatoes, g...\n",
       "2     filipino  20130  [eggs, pepper, salt, mayonaise, cooking oil, g...\n",
       "3       indian  22213                [water, vegetable oil, wheat, salt]\n",
       "4       indian  13162  [black pepper, shallots, cornflour, cayenne pe..."
      ]
     },
     "execution_count": 16,
     "metadata": {},
     "output_type": "execute_result"
    }
   ],
   "source": [
    "train_data.head()"
   ]
  },
  {
   "cell_type": "code",
   "execution_count": 17,
   "metadata": {},
   "outputs": [
    {
     "data": {
      "text/html": [
       "<div>\n",
       "<style scoped>\n",
       "    .dataframe tbody tr th:only-of-type {\n",
       "        vertical-align: middle;\n",
       "    }\n",
       "\n",
       "    .dataframe tbody tr th {\n",
       "        vertical-align: top;\n",
       "    }\n",
       "\n",
       "    .dataframe thead th {\n",
       "        text-align: right;\n",
       "    }\n",
       "</style>\n",
       "<table border=\"1\" class=\"dataframe\">\n",
       "  <thead>\n",
       "    <tr style=\"text-align: right;\">\n",
       "      <th></th>\n",
       "      <th>id</th>\n",
       "      <th>ingredients</th>\n",
       "    </tr>\n",
       "  </thead>\n",
       "  <tbody>\n",
       "    <tr>\n",
       "      <th>0</th>\n",
       "      <td>18009</td>\n",
       "      <td>[baking powder, eggs, all-purpose flour, raisi...</td>\n",
       "    </tr>\n",
       "    <tr>\n",
       "      <th>1</th>\n",
       "      <td>28583</td>\n",
       "      <td>[sugar, egg yolks, corn starch, cream of tarta...</td>\n",
       "    </tr>\n",
       "    <tr>\n",
       "      <th>2</th>\n",
       "      <td>41580</td>\n",
       "      <td>[sausage links, fennel bulb, fronds, olive oil...</td>\n",
       "    </tr>\n",
       "    <tr>\n",
       "      <th>3</th>\n",
       "      <td>29752</td>\n",
       "      <td>[meat cuts, file powder, smoked sausage, okra,...</td>\n",
       "    </tr>\n",
       "    <tr>\n",
       "      <th>4</th>\n",
       "      <td>35687</td>\n",
       "      <td>[ground black pepper, salt, sausage casings, l...</td>\n",
       "    </tr>\n",
       "  </tbody>\n",
       "</table>\n",
       "</div>"
      ],
      "text/plain": [
       "      id                                        ingredients\n",
       "0  18009  [baking powder, eggs, all-purpose flour, raisi...\n",
       "1  28583  [sugar, egg yolks, corn starch, cream of tarta...\n",
       "2  41580  [sausage links, fennel bulb, fronds, olive oil...\n",
       "3  29752  [meat cuts, file powder, smoked sausage, okra,...\n",
       "4  35687  [ground black pepper, salt, sausage casings, l..."
      ]
     },
     "execution_count": 17,
     "metadata": {},
     "output_type": "execute_result"
    }
   ],
   "source": [
    "test_data.head()"
   ]
  },
  {
   "cell_type": "code",
   "execution_count": 18,
   "metadata": {},
   "outputs": [
    {
     "data": {
      "text/plain": [
       "20"
      ]
     },
     "execution_count": 18,
     "metadata": {},
     "output_type": "execute_result"
    }
   ],
   "source": [
    "len(train_data.cuisine.unique())"
   ]
  },
  {
   "cell_type": "code",
   "execution_count": 19,
   "metadata": {
    "collapsed": true
   },
   "outputs": [],
   "source": [
    "#there are 20 different cuisine in this dataset"
   ]
  },
  {
   "cell_type": "code",
   "execution_count": 20,
   "metadata": {},
   "outputs": [
    {
     "data": {
      "text/plain": [
       "array(['greek', 'southern_us', 'filipino', 'indian', 'jamaican',\n",
       "       'spanish', 'italian', 'mexican', 'chinese', 'british', 'thai',\n",
       "       'vietnamese', 'cajun_creole', 'brazilian', 'french', 'japanese',\n",
       "       'irish', 'korean', 'moroccan', 'russian'], dtype=object)"
      ]
     },
     "execution_count": 20,
     "metadata": {},
     "output_type": "execute_result"
    }
   ],
   "source": [
    "train_data.cuisine.unique()"
   ]
  },
  {
   "cell_type": "code",
   "execution_count": 21,
   "metadata": {},
   "outputs": [
    {
     "name": "stdout",
     "output_type": "stream",
     "text": [
      "Max number of ingredients :  65\n",
      "Min number of ingredients : 1\n"
     ]
    }
   ],
   "source": [
    "print('Max number of ingredients : ',train_data['ingredients'].str.len().max())\n",
    "print('Min number of ingredients :',train_data['ingredients'].str.len().min())"
   ]
  },
  {
   "cell_type": "code",
   "execution_count": 22,
   "metadata": {},
   "outputs": [
    {
     "name": "stdout",
     "output_type": "stream",
     "text": [
      "6 recipes using more than 40 ingredients!\n"
     ]
    }
   ],
   "source": [
    "longer = train_data[train_data['ingredients'].str.len() > 40]\n",
    "print(\"{} recipes using more than 40 ingredients!\".format(len(longer)))"
   ]
  },
  {
   "cell_type": "code",
   "execution_count": 23,
   "metadata": {},
   "outputs": [
    {
     "name": "stdout",
     "output_type": "stream",
     "text": [
      "this number of ->>215 recipes contain less than or equal to 2 ingredients!\n"
     ]
    }
   ],
   "source": [
    "shorter=train_data[train_data['ingredients'].str.len() <= 2]\n",
    "print(\"this number of ->>{} recipes contain less than or equal to 2 ingredients!\".format(len(shorter)))"
   ]
  },
  {
   "cell_type": "code",
   "execution_count": 24,
   "metadata": {
    "collapsed": true
   },
   "outputs": [],
   "source": [
    "#some data visualization"
   ]
  },
  {
   "cell_type": "code",
   "execution_count": 25,
   "metadata": {},
   "outputs": [
    {
     "data": {
      "text/plain": [
       "(array([ 0,  1,  2,  3,  4,  5,  6,  7,  8,  9, 10, 11, 12, 13, 14, 15, 16,\n",
       "        17, 18, 19]), <a list of 20 Text xticklabel objects>)"
      ]
     },
     "execution_count": 25,
     "metadata": {},
     "output_type": "execute_result"
    },
    {
     "data": {
      "image/png": "[encoded data removed]",
      "text/plain": [
       "<Figure size 864x576 with 1 Axes>"
      ]
     },
     "metadata": {},
     "output_type": "display_data"
    }
   ],
   "source": [
    "plt.figure(figsize=(12,8))\n",
    "y = train_data['cuisine'].value_counts()\n",
    "x = y/y.sum() * 100\n",
    "y = y.index\n",
    "sns.barplot(y, x, data=train_data,palette=\"rocket\")\n",
    "plt.xticks(rotation=-60)"
   ]
  },
  {
   "cell_type": "code",
   "execution_count": 26,
   "metadata": {
    "collapsed": true
   },
   "outputs": [],
   "source": [
    "from collections import Counter\n",
    "ing=Counter([i for sublist in train_data.ingredients for i in sublist]).most_common()"
   ]
  },
  {
   "cell_type": "code",
   "execution_count": 27,
   "metadata": {
    "collapsed": true
   },
   "outputs": [],
   "source": [
    "com_ing= pd.DataFrame(ing)\n",
    "com_ing=com_ing.head(10)"
   ]
  },
  {
   "cell_type": "code",
   "execution_count": 28,
   "metadata": {},
   "outputs": [
    {
     "data": {
      "text/html": [
       "<div>\n",
       "<style scoped>\n",
       "    .dataframe tbody tr th:only-of-type {\n",
       "        vertical-align: middle;\n",
       "    }\n",
       "\n",
       "    .dataframe tbody tr th {\n",
       "        vertical-align: top;\n",
       "    }\n",
       "\n",
       "    .dataframe thead th {\n",
       "        text-align: right;\n",
       "    }\n",
       "</style>\n",
       "<table border=\"1\" class=\"dataframe\">\n",
       "  <thead>\n",
       "    <tr style=\"text-align: right;\">\n",
       "      <th></th>\n",
       "      <th>0</th>\n",
       "      <th>1</th>\n",
       "    </tr>\n",
       "  </thead>\n",
       "  <tbody>\n",
       "    <tr>\n",
       "      <th>0</th>\n",
       "      <td>salt</td>\n",
       "      <td>18049</td>\n",
       "    </tr>\n",
       "    <tr>\n",
       "      <th>1</th>\n",
       "      <td>onions</td>\n",
       "      <td>7972</td>\n",
       "    </tr>\n",
       "    <tr>\n",
       "      <th>2</th>\n",
       "      <td>olive oil</td>\n",
       "      <td>7972</td>\n",
       "    </tr>\n",
       "    <tr>\n",
       "      <th>3</th>\n",
       "      <td>water</td>\n",
       "      <td>7457</td>\n",
       "    </tr>\n",
       "    <tr>\n",
       "      <th>4</th>\n",
       "      <td>garlic</td>\n",
       "      <td>7380</td>\n",
       "    </tr>\n",
       "  </tbody>\n",
       "</table>\n",
       "</div>"
      ],
      "text/plain": [
       "           0      1\n",
       "0       salt  18049\n",
       "1     onions   7972\n",
       "2  olive oil   7972\n",
       "3      water   7457\n",
       "4     garlic   7380"
      ]
     },
     "execution_count": 28,
     "metadata": {},
     "output_type": "execute_result"
    }
   ],
   "source": [
    "com_ing.head()"
   ]
  },
  {
   "cell_type": "code",
   "execution_count": 29,
   "metadata": {},
   "outputs": [
    {
     "data": {
      "image/png": "[encoded data removed]",
      "text/plain": [
       "<Figure size 864x576 with 1 Axes>"
      ]
     },
     "metadata": {},
     "output_type": "display_data"
    }
   ],
   "source": [
    "plt.figure(figsize=(12,8))\n",
    "sns.barplot(com_ing[0], com_ing[1], palette=\"rocket\")\n",
    "plt.xticks(rotation=-60)\n",
    "plt.show()"
   ]
  },
  {
   "cell_type": "code",
   "execution_count": 30,
   "metadata": {},
   "outputs": [
    {
     "ename": "TypeError",
     "evalue": "string indices must be integers",
     "output_type": "error",
     "traceback": [
      "\u001b[1;31m---------------------------------------------------------------------------\u001b[0m",
      "\u001b[1;31mTypeError\u001b[0m                                 Traceback (most recent call last)",
      "\u001b[1;32m<ipython-input-30-0a16a6398a9a>\u001b[0m in \u001b[0;36m<module>\u001b[1;34m()\u001b[0m\n\u001b[0;32m      1\u001b[0m \u001b[1;32mfor\u001b[0m \u001b[0mi\u001b[0m \u001b[1;32min\u001b[0m \u001b[0mtrain_data\u001b[0m\u001b[1;33m:\u001b[0m\u001b[1;33m\u001b[0m\u001b[0m\n\u001b[1;32m----> 2\u001b[1;33m     \u001b[0mtrain_text\u001b[0m \u001b[1;33m=\u001b[0m \u001b[1;34m\" \"\u001b[0m\u001b[1;33m.\u001b[0m\u001b[0mjoin\u001b[0m\u001b[1;33m(\u001b[0m\u001b[0mi\u001b[0m\u001b[1;33m[\u001b[0m\u001b[1;34m'ingredients'\u001b[0m\u001b[1;33m]\u001b[0m\u001b[1;33m)\u001b[0m\u001b[1;33m.\u001b[0m\u001b[0mlower\u001b[0m\u001b[1;33m(\u001b[0m\u001b[1;33m)\u001b[0m\u001b[1;33m\u001b[0m\u001b[0m\n\u001b[0m",
      "\u001b[1;31mTypeError\u001b[0m: string indices must be integers"
     ]
    }
   ],
   "source": [
    "for i in train_data:\n",
    "    train_text = \" \".join(i['ingredients']).lower()\n"
   ]
  },
  {
   "cell_type": "code",
   "execution_count": 31,
   "metadata": {
    "collapsed": true
   },
   "outputs": [],
   "source": [
    "def join_strings_to_sentence(x):\n",
    "    result = ' '.join(x)\n",
    "    return result\n"
   ]
  },
  {
   "cell_type": "code",
   "execution_count": 32,
   "metadata": {
    "collapsed": true
   },
   "outputs": [],
   "source": [
    "#using nltk functions\n",
    "from nltk.stem.porter import PorterStemmer"
   ]
  },
  {
   "cell_type": "code",
   "execution_count": 33,
   "metadata": {
    "collapsed": true
   },
   "outputs": [],
   "source": [
    "def combine_and_stem(x):\n",
    "    x = pd.Series(x)\n",
    "    stemmer = PorterStemmer().stem\n",
    "    x = x.apply(stemmer)\n",
    "    x = x.apply(lambda k: ''.join(k.split(' ')))\n",
    "    x = ' '.join(list(x))\n",
    "    return x"
   ]
  },
  {
   "cell_type": "code",
   "execution_count": 35,
   "metadata": {
    "collapsed": true
   },
   "outputs": [],
   "source": [
    "# in thee above step we use nltk porter stemmer function to remove unwanted letters in the ingredients column"
   ]
  },
  {
   "cell_type": "code",
   "execution_count": 36,
   "metadata": {
    "collapsed": true
   },
   "outputs": [],
   "source": [
    "train_data[\"ingredients\"] = train_data[\"ingredients\"].apply(combine_and_stem)\n",
    "test_data[\"ingredients\"] = test_data[\"ingredients\"].apply(combine_and_stem)"
   ]
  },
  {
   "cell_type": "code",
   "execution_count": 39,
   "metadata": {},
   "outputs": [
    {
     "data": {
      "text/html": [
       "<div>\n",
       "<style scoped>\n",
       "    .dataframe tbody tr th:only-of-type {\n",
       "        vertical-align: middle;\n",
       "    }\n",
       "\n",
       "    .dataframe tbody tr th {\n",
       "        vertical-align: top;\n",
       "    }\n",
       "\n",
       "    .dataframe thead th {\n",
       "        text-align: right;\n",
       "    }\n",
       "</style>\n",
       "<table border=\"1\" class=\"dataframe\">\n",
       "  <thead>\n",
       "    <tr style=\"text-align: right;\">\n",
       "      <th></th>\n",
       "      <th>cuisine</th>\n",
       "      <th>id</th>\n",
       "      <th>ingredients</th>\n",
       "    </tr>\n",
       "  </thead>\n",
       "  <tbody>\n",
       "    <tr>\n",
       "      <th>0</th>\n",
       "      <td>greek</td>\n",
       "      <td>10259</td>\n",
       "      <td>romainelettuc blackol grapetomato garlic peppe...</td>\n",
       "    </tr>\n",
       "    <tr>\n",
       "      <th>1</th>\n",
       "      <td>southern_us</td>\n",
       "      <td>25693</td>\n",
       "      <td>plainflour groundpepp salt tomato groundblackp...</td>\n",
       "    </tr>\n",
       "    <tr>\n",
       "      <th>2</th>\n",
       "      <td>filipino</td>\n",
       "      <td>20130</td>\n",
       "      <td>egg pepper salt mayonais cookingoil greenchili...</td>\n",
       "    </tr>\n",
       "    <tr>\n",
       "      <th>3</th>\n",
       "      <td>indian</td>\n",
       "      <td>22213</td>\n",
       "      <td>water vegetableoil wheat salt</td>\n",
       "    </tr>\n",
       "    <tr>\n",
       "      <th>4</th>\n",
       "      <td>indian</td>\n",
       "      <td>13162</td>\n",
       "      <td>blackpepp shallot cornflour cayennepepp onion ...</td>\n",
       "    </tr>\n",
       "  </tbody>\n",
       "</table>\n",
       "</div>"
      ],
      "text/plain": [
       "       cuisine     id                                        ingredients\n",
       "0        greek  10259  romainelettuc blackol grapetomato garlic peppe...\n",
       "1  southern_us  25693  plainflour groundpepp salt tomato groundblackp...\n",
       "2     filipino  20130  egg pepper salt mayonais cookingoil greenchili...\n",
       "3       indian  22213                      water vegetableoil wheat salt\n",
       "4       indian  13162  blackpepp shallot cornflour cayennepepp onion ..."
      ]
     },
     "execution_count": 39,
     "metadata": {},
     "output_type": "execute_result"
    }
   ],
   "source": [
    "train_data.head()"
   ]
  },
  {
   "cell_type": "code",
   "execution_count": 40,
   "metadata": {},
   "outputs": [
    {
     "data": {
      "text/html": [
       "<div>\n",
       "<style scoped>\n",
       "    .dataframe tbody tr th:only-of-type {\n",
       "        vertical-align: middle;\n",
       "    }\n",
       "\n",
       "    .dataframe tbody tr th {\n",
       "        vertical-align: top;\n",
       "    }\n",
       "\n",
       "    .dataframe thead th {\n",
       "        text-align: right;\n",
       "    }\n",
       "</style>\n",
       "<table border=\"1\" class=\"dataframe\">\n",
       "  <thead>\n",
       "    <tr style=\"text-align: right;\">\n",
       "      <th></th>\n",
       "      <th>id</th>\n",
       "      <th>ingredients</th>\n",
       "    </tr>\n",
       "  </thead>\n",
       "  <tbody>\n",
       "    <tr>\n",
       "      <th>0</th>\n",
       "      <td>18009</td>\n",
       "      <td>bakingpowd egg all-purposeflour raisin milk wh...</td>\n",
       "    </tr>\n",
       "    <tr>\n",
       "      <th>1</th>\n",
       "      <td>28583</td>\n",
       "      <td>sugar eggyolk cornstarch creamoftartar banana ...</td>\n",
       "    </tr>\n",
       "    <tr>\n",
       "      <th>2</th>\n",
       "      <td>41580</td>\n",
       "      <td>sausagelink fennelbulb frond oliveoil cubanpep...</td>\n",
       "    </tr>\n",
       "    <tr>\n",
       "      <th>3</th>\n",
       "      <td>29752</td>\n",
       "      <td>meatcut filepowd smokedsausag okra shrimp ando...</td>\n",
       "    </tr>\n",
       "    <tr>\n",
       "      <th>4</th>\n",
       "      <td>35687</td>\n",
       "      <td>groundblackpepp salt sausagecas leek parmigian...</td>\n",
       "    </tr>\n",
       "  </tbody>\n",
       "</table>\n",
       "</div>"
      ],
      "text/plain": [
       "      id                                        ingredients\n",
       "0  18009  bakingpowd egg all-purposeflour raisin milk wh...\n",
       "1  28583  sugar eggyolk cornstarch creamoftartar banana ...\n",
       "2  41580  sausagelink fennelbulb frond oliveoil cubanpep...\n",
       "3  29752  meatcut filepowd smokedsausag okra shrimp ando...\n",
       "4  35687  groundblackpepp salt sausagecas leek parmigian..."
      ]
     },
     "execution_count": 40,
     "metadata": {},
     "output_type": "execute_result"
    }
   ],
   "source": [
    "test_data.head()"
   ]
  },
  {
   "cell_type": "code",
   "execution_count": 41,
   "metadata": {
    "collapsed": true
   },
   "outputs": [],
   "source": [
    "train_data = train_data.drop(\"id\",axis=1)\n",
    "test_data_id = test_data[\"id\"]\n",
    "test_data = test_data.drop(\"id\",axis=1)\n",
    "#here id is not a feature here as it describes only the id of a dish.\n",
    "#so we will drop it."
   ]
  },
  {
   "cell_type": "code",
   "execution_count": 42,
   "metadata": {},
   "outputs": [
    {
     "name": "stdout",
     "output_type": "stream",
     "text": [
      "       cuisine                                        ingredients\n",
      "0        greek  romainelettuc blackol grapetomato garlic peppe...\n",
      "1  southern_us  plainflour groundpepp salt tomato groundblackp...\n",
      "2     filipino  egg pepper salt mayonais cookingoil greenchili...\n",
      "3       indian                      water vegetableoil wheat salt\n",
      "4       indian  blackpepp shallot cornflour cayennepepp onion ...\n",
      "5     jamaican  plainflour sugar butter egg freshgingerroot sa...\n",
      "6      spanish  oliveoil salt mediumshrimp pepper garlic chopp...\n",
      "7      italian  sugar pistachionut whitealmondbark flour vanil...\n",
      "8      mexican  oliveoil purpleonion freshpineappl pork poblan...\n",
      "9      italian  choppedtomato freshbasil garlic extra-virginol...\n",
      " \n",
      "                                         ingredients\n",
      "0  bakingpowd egg all-purposeflour raisin milk wh...\n",
      "1  sugar eggyolk cornstarch creamoftartar banana ...\n",
      "2  sausagelink fennelbulb frond oliveoil cubanpep...\n",
      "3  meatcut filepowd smokedsausag okra shrimp ando...\n",
      "4  groundblackpepp salt sausagecas leek parmigian...\n",
      "5  bakingpowd all-purposeflour peachslic cornstar...\n",
      "6                     grapejuic orang whitezinfandel\n",
      "7  groundging whitepepp greenonion orangejuic sug...\n",
      "8  dicedonion tacoseasoningmix all-purposeflour c...\n",
      "9  egg cherri date darkmuscovadosugar groundcinna...\n"
     ]
    }
   ],
   "source": [
    "print (train_data.head(10))\n",
    "print(\" \")\n",
    "print (test_data.head(10))"
   ]
  },
  {
   "cell_type": "code",
   "execution_count": 43,
   "metadata": {
    "collapsed": true
   },
   "outputs": [],
   "source": [
    "def add_feature(X, feature_to_add):\n",
    "    from scipy.sparse import csr_matrix, hstack\n",
    "    return hstack([X, csr_matrix(feature_to_add).T], 'csr')"
   ]
  },
  {
   "cell_type": "code",
   "execution_count": 44,
   "metadata": {
    "collapsed": true
   },
   "outputs": [],
   "source": [
    "from sklearn.feature_extraction.text import TfidfVectorizer\n"
   ]
  },
  {
   "cell_type": "code",
   "execution_count": 45,
   "metadata": {
    "collapsed": true
   },
   "outputs": [],
   "source": [
    "vect = TfidfVectorizer(min_df=2).fit(train_data[\"ingredients\"])\n",
    "train_data_vect = vect.transform(train_data[\"ingredients\"])\n",
    "test_data_vect = vect.transform(test_data[\"ingredients\"])"
   ]
  },
  {
   "cell_type": "code",
   "execution_count": 46,
   "metadata": {
    "collapsed": true
   },
   "outputs": [],
   "source": [
    "#we can also add the number of ingredients as the feature to our dataframe\n",
    "num_ingredients_train = train_data[\"ingredients\"].apply(len)\n",
    "num_ingredients_test = test_data[\"ingredients\"].apply(len)"
   ]
  },
  {
   "cell_type": "code",
   "execution_count": 47,
   "metadata": {
    "collapsed": true
   },
   "outputs": [],
   "source": [
    "#Adding the number of ingredients variable to the dataset\n",
    "train_data_vect_new = add_feature(train_data_vect,num_ingredients_train)\n",
    "test_data_vect_new = add_feature(test_data_vect,num_ingredients_test)"
   ]
  },
  {
   "cell_type": "code",
   "execution_count": 48,
   "metadata": {
    "collapsed": true
   },
   "outputs": [],
   "source": [
    "#next we will use train test split from the sklearn library\n",
    "from sklearn.model_selection import train_test_split"
   ]
  },
  {
   "cell_type": "code",
   "execution_count": 49,
   "metadata": {},
   "outputs": [
    {
     "name": "stderr",
     "output_type": "stream",
     "text": [
      "C:\\Users\\SAI KRISHNA\\Anaconda3\\lib\\site-packages\\sklearn\\model_selection\\_split.py:2026: FutureWarning: From version 0.21, test_size will always complement train_size unless both are specified.\n",
      "  FutureWarning)\n"
     ]
    }
   ],
   "source": [
    "X_train,X_test,y_train,y_test = train_test_split(train_data_vect_new,train_data[\"cuisine\"],random_state=0,train_size=0.7)"
   ]
  },
  {
   "cell_type": "code",
   "execution_count": 50,
   "metadata": {
    "collapsed": true
   },
   "outputs": [],
   "source": [
    "#Machine learning algorithms which we are going to use is Logistic regression and svm"
   ]
  },
  {
   "cell_type": "code",
   "execution_count": 51,
   "metadata": {
    "collapsed": true
   },
   "outputs": [],
   "source": [
    "#Logistic regression\n",
    "from sklearn.linear_model import LogisticRegression\n",
    "from sklearn.metrics import roc_auc_score,accuracy_score"
   ]
  },
  {
   "cell_type": "code",
   "execution_count": 52,
   "metadata": {
    "collapsed": true
   },
   "outputs": [],
   "source": [
    "logreg = LogisticRegression()\n",
    "model = logreg.fit(X_train,y_train)"
   ]
  },
  {
   "cell_type": "code",
   "execution_count": 53,
   "metadata": {
    "collapsed": true
   },
   "outputs": [],
   "source": [
    "y_predict = model.predict(X_test)\n",
    "score = accuracy_score(y_test,y_predict)"
   ]
  },
  {
   "cell_type": "code",
   "execution_count": 54,
   "metadata": {},
   "outputs": [
    {
     "name": "stdout",
     "output_type": "stream",
     "text": [
      "0.7667811950054471\n"
     ]
    }
   ],
   "source": [
    "print (score)"
   ]
  },
  {
   "cell_type": "code",
   "execution_count": 44,
   "metadata": {},
   "outputs": [
    {
     "name": "stdout",
     "output_type": "stream",
     "text": [
      "0.7667811950054471\n",
      " \n",
      "0.779686583424118\n",
      " \n",
      "0.784630855610492\n",
      " \n",
      "0.7873962959859214\n",
      " \n",
      "0.7884019106678958\n",
      " \n",
      "0.7877315008799128\n",
      " \n",
      "0.7881505069974022\n",
      " \n",
      "0.7865582837509427\n",
      " \n",
      "0.7863068800804491\n",
      " \n"
     ]
    }
   ],
   "source": [
    "for i in range(1,10):\n",
    "    logreg = LogisticRegression(C=i)\n",
    "    model = logreg.fit(X_train,y_train)\n",
    "    y_predict = model.predict(X_test)\n",
    "    score = accuracy_score(y_test,y_predict)\n",
    "    print(score)\n",
    "    print(\" \")"
   ]
  },
  {
   "cell_type": "code",
   "execution_count": 55,
   "metadata": {
    "collapsed": true
   },
   "outputs": [],
   "source": [
    "#accuracy is more when it has parmeter C as 5\n",
    "# LOGISTIC REGRESSION ACCURACY : 0.788"
   ]
  },
  {
   "cell_type": "code",
   "execution_count": 56,
   "metadata": {
    "scrolled": false
   },
   "outputs": [],
   "source": [
    "results = pd.DataFrame()\n",
    "results[\"test\"] = y_test\n",
    "results[\"predict\"] = y_predict\n",
    "results_incorrect = results[results[\"test\"]!=results[\"predict\"]]\n",
    "results_correct = results[results[\"test\"]==results[\"predict\"]]"
   ]
  },
  {
   "cell_type": "code",
   "execution_count": 57,
   "metadata": {},
   "outputs": [
    {
     "name": "stdout",
     "output_type": "stream",
     "text": [
      "not predicted correctly : 2783\n",
      "predicted correctly : 9150\n",
      "\n",
      "incorrect predictions\n",
      "               test       predict\n",
      "20416        indian         greek\n",
      "20082       british        french\n",
      "17470      moroccan       italian\n",
      "18801       spanish       italian\n",
      "7716   cajun_creole        french\n",
      "39024  cajun_creole       italian\n",
      "23312        french   southern_us\n",
      "23527        french       italian\n",
      "39627      japanese  cajun_creole\n",
      "36569         greek       italian\n",
      "18143        french       italian\n",
      "27061     brazilian       chinese\n",
      "15383        french       italian\n",
      "8018           thai    vietnamese\n",
      "24546       chinese        french\n",
      "31137      jamaican   southern_us\n",
      "14999        french   southern_us\n",
      "11216     brazilian          thai\n",
      "29741       italian        french\n",
      "32862       british   southern_us\n",
      "15400          thai      japanese\n",
      "27155       british       italian\n",
      "12534     brazilian  cajun_creole\n",
      "29751        french       italian\n",
      "9269      brazilian   southern_us\n",
      "23578      japanese   southern_us\n",
      "3336       jamaican      filipino\n",
      "20997      filipino       chinese\n",
      "31538       russian        french\n",
      "13319          thai    vietnamese\n",
      "...             ...           ...\n",
      "10218      japanese        indian\n",
      "249      vietnamese          thai\n",
      "15890   southern_us        french\n",
      "11964   southern_us  cajun_creole\n",
      "33669      japanese        indian\n",
      "18687      filipino       russian\n",
      "27189      jamaican       italian\n",
      "15821         irish       italian\n",
      "22455  cajun_creole       italian\n",
      "9830        mexican   southern_us\n",
      "32198       italian        french\n",
      "6830           thai       mexican\n",
      "7229          greek       italian\n",
      "16763     brazilian       italian\n",
      "14261   southern_us        french\n",
      "12258     brazilian       mexican\n",
      "12992       spanish       italian\n",
      "7497    southern_us       italian\n",
      "13029       russian        french\n",
      "12804      moroccan       italian\n",
      "24940        indian       italian\n",
      "7276          greek       italian\n",
      "21188   southern_us  cajun_creole\n",
      "5231       moroccan       mexican\n",
      "14822         irish       italian\n",
      "27888   southern_us        french\n",
      "20373      japanese       mexican\n",
      "8062     vietnamese          thai\n",
      "19195        indian       mexican\n",
      "28609         greek        french\n",
      "\n",
      "[2783 rows x 2 columns]\n",
      " \n",
      "correct predictions\n",
      "               test       predict\n",
      "8834        mexican       mexican\n",
      "34143       mexican       mexican\n",
      "15808        indian        indian\n",
      "3281    southern_us   southern_us\n",
      "10823      japanese      japanese\n",
      "4831        mexican       mexican\n",
      "38661       italian       italian\n",
      "21660       chinese       chinese\n",
      "27198       mexican       mexican\n",
      "27419     brazilian     brazilian\n",
      "27816         irish         irish\n",
      "27742       italian       italian\n",
      "11542       italian       italian\n",
      "19289   southern_us   southern_us\n",
      "39519        french        french\n",
      "16776       chinese       chinese\n",
      "5920        italian       italian\n",
      "36737       russian       russian\n",
      "13765  cajun_creole  cajun_creole\n",
      "30689   southern_us   southern_us\n",
      "14178          thai          thai\n",
      "36926        french        french\n",
      "16697       chinese       chinese\n",
      "9247        italian       italian\n",
      "36288  cajun_creole  cajun_creole\n",
      "10456       mexican       mexican\n",
      "30811       mexican       mexican\n",
      "35262        indian        indian\n",
      "16935   southern_us   southern_us\n",
      "5402        chinese       chinese\n",
      "...             ...           ...\n",
      "17491        indian        indian\n",
      "29727       italian       italian\n",
      "808         mexican       mexican\n",
      "20407       spanish       spanish\n",
      "38297       spanish       spanish\n",
      "28076   southern_us   southern_us\n",
      "2174        mexican       mexican\n",
      "11238       italian       italian\n",
      "31120       mexican       mexican\n",
      "38796        french        french\n",
      "2797        mexican       mexican\n",
      "2835        mexican       mexican\n",
      "30646       italian       italian\n",
      "8152        italian       italian\n",
      "33487        french        french\n",
      "8464    southern_us   southern_us\n",
      "3329         indian        indian\n",
      "39066    vietnamese    vietnamese\n",
      "10791        french        french\n",
      "9632        mexican       mexican\n",
      "28493       chinese       chinese\n",
      "18138    vietnamese    vietnamese\n",
      "6529         french        french\n",
      "29431       mexican       mexican\n",
      "21897      filipino      filipino\n",
      "1059        mexican       mexican\n",
      "37783       mexican       mexican\n",
      "33408   southern_us   southern_us\n",
      "27076   southern_us   southern_us\n",
      "25673      filipino      filipino\n",
      "\n",
      "[9150 rows x 2 columns]\n"
     ]
    }
   ],
   "source": [
    "#no of correct and incorrect\n",
    "print (\"not predicted correctly :\",len(results_incorrect))\n",
    "print (\"predicted correctly :\",len(results_correct))\n",
    "print (\"\")\n",
    "print (\"incorrect predictions\")\n",
    "print (results_incorrect)\n",
    "print(\" \")\n",
    "print(\"correct predictions\")\n",
    "print(results_correct)"
   ]
  },
  {
   "cell_type": "code",
   "execution_count": null,
   "metadata": {
    "collapsed": true
   },
   "outputs": [],
   "source": [
    "# we can also do by label encoder for the target class."
   ]
  },
  {
   "cell_type": "code",
   "execution_count": null,
   "metadata": {
    "collapsed": true
   },
   "outputs": [],
   "source": [
    "y_train = [i['cuisine'] for i in train_data]\n",
    "lb = LabelEncoder()\n",
    "y_train = lb.fit_transform(y_train)"
   ]
  },
  {
   "cell_type": "code",
   "execution_count": null,
   "metadata": {
    "collapsed": true
   },
   "outputs": [],
   "source": [
    "#Next we will try to solve this problem with SVM algorithm."
   ]
  },
  {
   "cell_type": "code",
   "execution_count": null,
   "metadata": {
    "collapsed": true
   },
   "outputs": [],
   "source": [
    "#from sklearn.svm import SVC\n",
    "#from sklearn.multiclass import OneVsRestClassifier"
   ]
  },
  {
   "cell_type": "code",
   "execution_count": null,
   "metadata": {
    "collapsed": true
   },
   "outputs": [],
   "source": [
    "#svc = SVC(C=100, gamma=0.9, coef0=1, tol=0.001, decision_function_shape=None)\n",
    "#model_svc = OneVsRestClassifier(svc, n_jobs=1)\n",
    "#model_svc.fit(X_train, y_train)"
   ]
  },
  {
   "cell_type": "code",
   "execution_count": 1,
   "metadata": {
    "collapsed": true
   },
   "outputs": [],
   "source": [
    "# prediction for support vector machine\n",
    "#y_test = model_svc.predict(X_test)\n",
    "#print(y_test)"
   ]
  },
  {
   "cell_type": "code",
   "execution_count": 4,
   "metadata": {
    "collapsed": true
   },
   "outputs": [],
   "source": [
    "#  SUMBISSION IN CSV FILE\n",
    "#test_id = [i['id'] for i in test_data]\n",
    "#result = pd.DataFrame({'id':test_id, 'cuisine':y_pred},columns=['id','cuisine'])\n",
    "#result.to_csv('svm_submission.csv', index=False)"
   ]
  },
  {
   "cell_type": "code",
   "execution_count": 5,
   "metadata": {
    "collapsed": true
   },
   "outputs": [],
   "source": [
    "######        svm took lot of time to load in my computer so i cant produce result for it     #######\n"
   ]
  },
  {
   "cell_type": "code",
   "execution_count": 6,
   "metadata": {
    "collapsed": true
   },
   "outputs": [],
   "source": [
    "## so i will submit the result for logistic regression"
   ]
  },
  {
   "cell_type": "code",
   "execution_count": 58,
   "metadata": {},
   "outputs": [
    {
     "name": "stdout",
     "output_type": "stream",
     "text": [
      "['british' 'southern_us' 'italian' ... 'italian' 'southern_us' 'mexican']\n"
     ]
    }
   ],
   "source": [
    "#result for logistic regression\n",
    "y_predict = model.predict(test_data_vect_new)\n",
    "print (y_predict)"
   ]
  },
  {
   "cell_type": "code",
   "execution_count": 62,
   "metadata": {},
   "outputs": [
    {
     "data": {
      "text/html": [
       "<div>\n",
       "<style scoped>\n",
       "    .dataframe tbody tr th:only-of-type {\n",
       "        vertical-align: middle;\n",
       "    }\n",
       "\n",
       "    .dataframe tbody tr th {\n",
       "        vertical-align: top;\n",
       "    }\n",
       "\n",
       "    .dataframe thead th {\n",
       "        text-align: right;\n",
       "    }\n",
       "</style>\n",
       "<table border=\"1\" class=\"dataframe\">\n",
       "  <thead>\n",
       "    <tr style=\"text-align: right;\">\n",
       "      <th></th>\n",
       "      <th>ingredients</th>\n",
       "    </tr>\n",
       "  </thead>\n",
       "  <tbody>\n",
       "    <tr>\n",
       "      <th>0</th>\n",
       "      <td>bakingpowd egg all-purposeflour raisin milk wh...</td>\n",
       "    </tr>\n",
       "    <tr>\n",
       "      <th>1</th>\n",
       "      <td>sugar eggyolk cornstarch creamoftartar banana ...</td>\n",
       "    </tr>\n",
       "    <tr>\n",
       "      <th>2</th>\n",
       "      <td>sausagelink fennelbulb frond oliveoil cubanpep...</td>\n",
       "    </tr>\n",
       "    <tr>\n",
       "      <th>3</th>\n",
       "      <td>meatcut filepowd smokedsausag okra shrimp ando...</td>\n",
       "    </tr>\n",
       "    <tr>\n",
       "      <th>4</th>\n",
       "      <td>groundblackpepp salt sausagecas leek parmigian...</td>\n",
       "    </tr>\n",
       "    <tr>\n",
       "      <th>5</th>\n",
       "      <td>bakingpowd all-purposeflour peachslic cornstar...</td>\n",
       "    </tr>\n",
       "    <tr>\n",
       "      <th>6</th>\n",
       "      <td>grapejuic orang whitezinfandel</td>\n",
       "    </tr>\n",
       "    <tr>\n",
       "      <th>7</th>\n",
       "      <td>groundging whitepepp greenonion orangejuic sug...</td>\n",
       "    </tr>\n",
       "    <tr>\n",
       "      <th>8</th>\n",
       "      <td>dicedonion tacoseasoningmix all-purposeflour c...</td>\n",
       "    </tr>\n",
       "    <tr>\n",
       "      <th>9</th>\n",
       "      <td>egg cherri date darkmuscovadosugar groundcinna...</td>\n",
       "    </tr>\n",
       "    <tr>\n",
       "      <th>10</th>\n",
       "      <td>pasta oliveoil crushedredpepp cherrytomato bas...</td>\n",
       "    </tr>\n",
       "    <tr>\n",
       "      <th>11</th>\n",
       "      <td>water butter groundsumac groundlamb groundcinn...</td>\n",
       "    </tr>\n",
       "    <tr>\n",
       "      <th>12</th>\n",
       "      <td>currypowd groundcumin chickenw choppedonion gr...</td>\n",
       "    </tr>\n",
       "    <tr>\n",
       "      <th>13</th>\n",
       "      <td>pasta marinarasauc driedbasil chickenfing mozz...</td>\n",
       "    </tr>\n",
       "    <tr>\n",
       "      <th>14</th>\n",
       "      <td>salt custardpowd whitesugar egg margarin selfr...</td>\n",
       "    </tr>\n",
       "    <tr>\n",
       "      <th>15</th>\n",
       "      <td>vegetableoilcookingspray eggwhit apricotnectar...</td>\n",
       "    </tr>\n",
       "    <tr>\n",
       "      <th>16</th>\n",
       "      <td>vanillaicecream bananaliqueur banana pineapple...</td>\n",
       "    </tr>\n",
       "    <tr>\n",
       "      <th>17</th>\n",
       "      <td>molass hotsauc bakedbean greypoupondijonmustar...</td>\n",
       "    </tr>\n",
       "    <tr>\n",
       "      <th>18</th>\n",
       "      <td>choppedgreenchili sourcream cheddarchees salt ...</td>\n",
       "    </tr>\n",
       "    <tr>\n",
       "      <th>19</th>\n",
       "      <td>coldwat chickendrumstick chickenthigh chickens...</td>\n",
       "    </tr>\n",
       "    <tr>\n",
       "      <th>20</th>\n",
       "      <td>beanthread suet freshshiitakemushroom firmtofu...</td>\n",
       "    </tr>\n",
       "    <tr>\n",
       "      <th>21</th>\n",
       "      <td>water groundturmer salt long-grainric butter</td>\n",
       "    </tr>\n",
       "    <tr>\n",
       "      <th>22</th>\n",
       "      <td>koshersalt bayleav brownlentil parsnip sherryv...</td>\n",
       "    </tr>\n",
       "    <tr>\n",
       "      <th>23</th>\n",
       "      <td>koshersalt vegetableoil shrimp herb nuoccham g...</td>\n",
       "    </tr>\n",
       "    <tr>\n",
       "      <th>24</th>\n",
       "      <td>arborioric oliveoil drywhitewin salt brownbutt...</td>\n",
       "    </tr>\n",
       "    <tr>\n",
       "      <th>25</th>\n",
       "      <td>grannysmithappl bayleav applecid onion clove g...</td>\n",
       "    </tr>\n",
       "    <tr>\n",
       "      <th>26</th>\n",
       "      <td>fishsauc jalapenochili scallion lemongrass bas...</td>\n",
       "    </tr>\n",
       "    <tr>\n",
       "      <th>27</th>\n",
       "      <td>chickenw bakingsoda ricevinegar garlicclov hon...</td>\n",
       "    </tr>\n",
       "    <tr>\n",
       "      <th>28</th>\n",
       "      <td>parmigianoreggianochees fig crackedblackpepp m...</td>\n",
       "    </tr>\n",
       "    <tr>\n",
       "      <th>29</th>\n",
       "      <td>cheesesauc macaroniandcheesedinn shreddedsharp...</td>\n",
       "    </tr>\n",
       "    <tr>\n",
       "      <th>...</th>\n",
       "      <td>...</td>\n",
       "    </tr>\n",
       "    <tr>\n",
       "      <th>9914</th>\n",
       "      <td>fishsauc lemongrass ginger garlicclov boilingw...</td>\n",
       "    </tr>\n",
       "    <tr>\n",
       "      <th>9915</th>\n",
       "      <td>koshersalt shallot groundblackpepp freshlemonj...</td>\n",
       "    </tr>\n",
       "    <tr>\n",
       "      <th>9916</th>\n",
       "      <td>celeryrib lemonslic freshparsley largeegg carr...</td>\n",
       "    </tr>\n",
       "    <tr>\n",
       "      <th>9917</th>\n",
       "      <td>zucchini groundbeef water greenpepp pregotradi...</td>\n",
       "    </tr>\n",
       "    <tr>\n",
       "      <th>9918</th>\n",
       "      <td>finesalt canolaoil unsaltedbutt bakingpowd who...</td>\n",
       "    </tr>\n",
       "    <tr>\n",
       "      <th>9919</th>\n",
       "      <td>sugar ice sugarcan gingerroot lime</td>\n",
       "    </tr>\n",
       "    <tr>\n",
       "      <th>9920</th>\n",
       "      <td>manicottishel eggsubstitut salt italianseason ...</td>\n",
       "    </tr>\n",
       "    <tr>\n",
       "      <th>9921</th>\n",
       "      <td>mushroomcap dippingsauc redbellpepp blackpepp ...</td>\n",
       "    </tr>\n",
       "    <tr>\n",
       "      <th>9922</th>\n",
       "      <td>redlentil crushedgarl currypowd cuminse water ...</td>\n",
       "    </tr>\n",
       "    <tr>\n",
       "      <th>9923</th>\n",
       "      <td>water cookingspray onion dough driedthym pizza...</td>\n",
       "    </tr>\n",
       "    <tr>\n",
       "      <th>9924</th>\n",
       "      <td>chickenbroth salt dicedceleri dicedonion large...</td>\n",
       "    </tr>\n",
       "    <tr>\n",
       "      <th>9925</th>\n",
       "      <td>raspberryjam unsaltedbutt castersugar eggwhit ...</td>\n",
       "    </tr>\n",
       "    <tr>\n",
       "      <th>9926</th>\n",
       "      <td>koshersalt worcestershiresauc slabbacon greenp...</td>\n",
       "    </tr>\n",
       "    <tr>\n",
       "      <th>9927</th>\n",
       "      <td>evaporatedmilk salt whitesugar flakedcoconut c...</td>\n",
       "    </tr>\n",
       "    <tr>\n",
       "      <th>9928</th>\n",
       "      <td>currypowd babyspinach fenugreekse broth kosher...</td>\n",
       "    </tr>\n",
       "    <tr>\n",
       "      <th>9929</th>\n",
       "      <td>tomato blackpepp groundnutmeg heavycream salt ...</td>\n",
       "    </tr>\n",
       "    <tr>\n",
       "      <th>9930</th>\n",
       "      <td>mincedchicken oliveoil carrot sweetchilisauc r...</td>\n",
       "    </tr>\n",
       "    <tr>\n",
       "      <th>9931</th>\n",
       "      <td>tomato paprika long-grainric chicken oliveoil ...</td>\n",
       "    </tr>\n",
       "    <tr>\n",
       "      <th>9932</th>\n",
       "      <td>cannedblackbean cornkernel lowsodiumchickenbro...</td>\n",
       "    </tr>\n",
       "    <tr>\n",
       "      <th>9933</th>\n",
       "      <td>avocado salsa hotpeppersauc garlicpowd salt</td>\n",
       "    </tr>\n",
       "    <tr>\n",
       "      <th>9934</th>\n",
       "      <td>yellowsquash salt mayonais butter buttercrack ...</td>\n",
       "    </tr>\n",
       "    <tr>\n",
       "      <th>9935</th>\n",
       "      <td>chickenw peeledfreshging soysauc sugar toasted...</td>\n",
       "    </tr>\n",
       "    <tr>\n",
       "      <th>9936</th>\n",
       "      <td>sugar salt largeeggyolk apricotpreserv water a...</td>\n",
       "    </tr>\n",
       "    <tr>\n",
       "      <th>9937</th>\n",
       "      <td>egg greenonion ricevinegar shrimpsmalluncook s...</td>\n",
       "    </tr>\n",
       "    <tr>\n",
       "      <th>9938</th>\n",
       "      <td>cauliflow garlicpast currypowd greenchili toma...</td>\n",
       "    </tr>\n",
       "    <tr>\n",
       "      <th>9939</th>\n",
       "      <td>largeeggyolk freshlemonjuic sugar bourbonwhisk...</td>\n",
       "    </tr>\n",
       "    <tr>\n",
       "      <th>9940</th>\n",
       "      <td>hotsauc butter sweetpotato adobosauc salt</td>\n",
       "    </tr>\n",
       "    <tr>\n",
       "      <th>9941</th>\n",
       "      <td>blackpepp salt parmigianoreggianochees ricotta...</td>\n",
       "    </tr>\n",
       "    <tr>\n",
       "      <th>9942</th>\n",
       "      <td>cheddarchees cayenn paprika plumtomato greenbe...</td>\n",
       "    </tr>\n",
       "    <tr>\n",
       "      <th>9943</th>\n",
       "      <td>coldwat oliveoil limewedg garlicclov boilingwa...</td>\n",
       "    </tr>\n",
       "  </tbody>\n",
       "</table>\n",
       "<p>9944 rows × 1 columns</p>\n",
       "</div>"
      ],
      "text/plain": [
       "                                            ingredients\n",
       "0     bakingpowd egg all-purposeflour raisin milk wh...\n",
       "1     sugar eggyolk cornstarch creamoftartar banana ...\n",
       "2     sausagelink fennelbulb frond oliveoil cubanpep...\n",
       "3     meatcut filepowd smokedsausag okra shrimp ando...\n",
       "4     groundblackpepp salt sausagecas leek parmigian...\n",
       "5     bakingpowd all-purposeflour peachslic cornstar...\n",
       "6                        grapejuic orang whitezinfandel\n",
       "7     groundging whitepepp greenonion orangejuic sug...\n",
       "8     dicedonion tacoseasoningmix all-purposeflour c...\n",
       "9     egg cherri date darkmuscovadosugar groundcinna...\n",
       "10    pasta oliveoil crushedredpepp cherrytomato bas...\n",
       "11    water butter groundsumac groundlamb groundcinn...\n",
       "12    currypowd groundcumin chickenw choppedonion gr...\n",
       "13    pasta marinarasauc driedbasil chickenfing mozz...\n",
       "14    salt custardpowd whitesugar egg margarin selfr...\n",
       "15    vegetableoilcookingspray eggwhit apricotnectar...\n",
       "16    vanillaicecream bananaliqueur banana pineapple...\n",
       "17    molass hotsauc bakedbean greypoupondijonmustar...\n",
       "18    choppedgreenchili sourcream cheddarchees salt ...\n",
       "19    coldwat chickendrumstick chickenthigh chickens...\n",
       "20    beanthread suet freshshiitakemushroom firmtofu...\n",
       "21         water groundturmer salt long-grainric butter\n",
       "22    koshersalt bayleav brownlentil parsnip sherryv...\n",
       "23    koshersalt vegetableoil shrimp herb nuoccham g...\n",
       "24    arborioric oliveoil drywhitewin salt brownbutt...\n",
       "25    grannysmithappl bayleav applecid onion clove g...\n",
       "26    fishsauc jalapenochili scallion lemongrass bas...\n",
       "27    chickenw bakingsoda ricevinegar garlicclov hon...\n",
       "28    parmigianoreggianochees fig crackedblackpepp m...\n",
       "29    cheesesauc macaroniandcheesedinn shreddedsharp...\n",
       "...                                                 ...\n",
       "9914  fishsauc lemongrass ginger garlicclov boilingw...\n",
       "9915  koshersalt shallot groundblackpepp freshlemonj...\n",
       "9916  celeryrib lemonslic freshparsley largeegg carr...\n",
       "9917  zucchini groundbeef water greenpepp pregotradi...\n",
       "9918  finesalt canolaoil unsaltedbutt bakingpowd who...\n",
       "9919                 sugar ice sugarcan gingerroot lime\n",
       "9920  manicottishel eggsubstitut salt italianseason ...\n",
       "9921  mushroomcap dippingsauc redbellpepp blackpepp ...\n",
       "9922  redlentil crushedgarl currypowd cuminse water ...\n",
       "9923  water cookingspray onion dough driedthym pizza...\n",
       "9924  chickenbroth salt dicedceleri dicedonion large...\n",
       "9925  raspberryjam unsaltedbutt castersugar eggwhit ...\n",
       "9926  koshersalt worcestershiresauc slabbacon greenp...\n",
       "9927  evaporatedmilk salt whitesugar flakedcoconut c...\n",
       "9928  currypowd babyspinach fenugreekse broth kosher...\n",
       "9929  tomato blackpepp groundnutmeg heavycream salt ...\n",
       "9930  mincedchicken oliveoil carrot sweetchilisauc r...\n",
       "9931  tomato paprika long-grainric chicken oliveoil ...\n",
       "9932  cannedblackbean cornkernel lowsodiumchickenbro...\n",
       "9933        avocado salsa hotpeppersauc garlicpowd salt\n",
       "9934  yellowsquash salt mayonais butter buttercrack ...\n",
       "9935  chickenw peeledfreshging soysauc sugar toasted...\n",
       "9936  sugar salt largeeggyolk apricotpreserv water a...\n",
       "9937  egg greenonion ricevinegar shrimpsmalluncook s...\n",
       "9938  cauliflow garlicpast currypowd greenchili toma...\n",
       "9939  largeeggyolk freshlemonjuic sugar bourbonwhisk...\n",
       "9940          hotsauc butter sweetpotato adobosauc salt\n",
       "9941  blackpepp salt parmigianoreggianochees ricotta...\n",
       "9942  cheddarchees cayenn paprika plumtomato greenbe...\n",
       "9943  coldwat oliveoil limewedg garlicclov boilingwa...\n",
       "\n",
       "[9944 rows x 1 columns]"
      ]
     },
     "execution_count": 62,
     "metadata": {},
     "output_type": "execute_result"
    }
   ],
   "source": [
    "test_data_copy = test_data\n",
    "test_data_copy"
   ]
  },
  {
   "cell_type": "code",
   "execution_count": 63,
   "metadata": {
    "collapsed": true
   },
   "outputs": [],
   "source": [
    "#we have changed the test_data so we need to load again the data from json file.\n",
    "test_data_again = pd.read_json('test.json')\n"
   ]
  },
  {
   "cell_type": "code",
   "execution_count": 64,
   "metadata": {
    "collapsed": true
   },
   "outputs": [],
   "source": [
    "prediction_results = pd.DataFrame()"
   ]
  },
  {
   "cell_type": "code",
   "execution_count": 65,
   "metadata": {},
   "outputs": [],
   "source": [
    "prediction_results[\"id\"] = test_data_again[\"id\"]\n",
    "prediction_results[\"cuisine\"] = y_predict"
   ]
  },
  {
   "cell_type": "code",
   "execution_count": 66,
   "metadata": {},
   "outputs": [
    {
     "data": {
      "text/html": [
       "<div>\n",
       "<style scoped>\n",
       "    .dataframe tbody tr th:only-of-type {\n",
       "        vertical-align: middle;\n",
       "    }\n",
       "\n",
       "    .dataframe tbody tr th {\n",
       "        vertical-align: top;\n",
       "    }\n",
       "\n",
       "    .dataframe thead th {\n",
       "        text-align: right;\n",
       "    }\n",
       "</style>\n",
       "<table border=\"1\" class=\"dataframe\">\n",
       "  <thead>\n",
       "    <tr style=\"text-align: right;\">\n",
       "      <th></th>\n",
       "      <th>id</th>\n",
       "      <th>cuisine</th>\n",
       "    </tr>\n",
       "  </thead>\n",
       "  <tbody>\n",
       "    <tr>\n",
       "      <th>0</th>\n",
       "      <td>18009</td>\n",
       "      <td>british</td>\n",
       "    </tr>\n",
       "    <tr>\n",
       "      <th>1</th>\n",
       "      <td>28583</td>\n",
       "      <td>southern_us</td>\n",
       "    </tr>\n",
       "    <tr>\n",
       "      <th>2</th>\n",
       "      <td>41580</td>\n",
       "      <td>italian</td>\n",
       "    </tr>\n",
       "    <tr>\n",
       "      <th>3</th>\n",
       "      <td>29752</td>\n",
       "      <td>cajun_creole</td>\n",
       "    </tr>\n",
       "    <tr>\n",
       "      <th>4</th>\n",
       "      <td>35687</td>\n",
       "      <td>italian</td>\n",
       "    </tr>\n",
       "  </tbody>\n",
       "</table>\n",
       "</div>"
      ],
      "text/plain": [
       "      id       cuisine\n",
       "0  18009       british\n",
       "1  28583   southern_us\n",
       "2  41580       italian\n",
       "3  29752  cajun_creole\n",
       "4  35687       italian"
      ]
     },
     "execution_count": 66,
     "metadata": {},
     "output_type": "execute_result"
    }
   ],
   "source": [
    "prediction_results.head()"
   ]
  },
  {
   "cell_type": "code",
   "execution_count": 67,
   "metadata": {
    "collapsed": true
   },
   "outputs": [],
   "source": [
    "#now lets write this in csv file"
   ]
  },
  {
   "cell_type": "code",
   "execution_count": 68,
   "metadata": {
    "collapsed": true
   },
   "outputs": [],
   "source": [
    "prediction_results.to_csv(\"lr_submission.csv\",index=False)\n"
   ]
  },
  {
   "cell_type": "code",
   "execution_count": null,
   "metadata": {
    "collapsed": true
   },
   "outputs": [],
   "source": [
    "# thank you"
   ]
  }
 ],
 "metadata": {
  "kernelspec": {
   "display_name": "Python 3",
   "language": "python",
   "name": "python3"
  },
  "language_info": {
   "codemirror_mode": {
    "name": "ipython",
    "version": 3
   },
   "file_extension": ".py",
   "mimetype": "text/x-python",
   "name": "python",
   "nbconvert_exporter": "python",
   "pygments_lexer": "ipython3",
   "version": "3.6.3"
  }
 },
 "nbformat": 4,
 "nbformat_minor": 2
}
